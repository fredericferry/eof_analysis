{
 "cells": [
  {
   "cell_type": "markdown",
   "metadata": {},
   "source": [
    "# Analyse en composantes principales sur données quotidiennes de Z500\n",
    "\n",
    "**Auteur : FERRY Frédéric (DESR/ENM/C3M) - février 2022**\n",
    "\n",
    "L'analyse en composantes principales (ACP) ou Empirical Orthogonal Function (EOF) analysis en anglais est une méthode statistique permettant de simplifier des données spatio-temporelles en les décomposant structures spatiales de variabilité et en projections temporelles de ces structures. Les vecteurs propres (Empirical Orthogonal Functions = EOFs) sont des fonctions de base en terme de variance et correspodent à des structures spatiales. Les projections temporelles associées à ces structures spatiales sont les composantes principales (Principal Components = PCs) et correspondent aux coefficients temporels des EOFs.\n",
    "\n",
    "On utilisera ici le package Python eofs : https://ajdawson.github.io/eofs/latest/\n",
    "\n",
    "Note : on n'utilise pas ici la methode solver.reconstruction car bug avec la version 3.1 de Python : https://github.com/ajdawson/eofs/commit/416ea0c135485ddd2cdf8e6d2b9f51a4d1cddc29\n",
    "\n",
    "Concepts Python illustrés :\n",
    "\n",
    "- Exploitation de fichiers netcdf (xarray)\n",
    "- Tracé de cartes (cartopy)\n",
    "- Manipulation de séries temporelles (pandas)\n",
    "- Analyse en composantes principales (eofs)"
   ]
  },
  {
   "cell_type": "code",
   "execution_count": null,
   "metadata": {},
   "outputs": [],
   "source": [
    "%matplotlib inline\n",
    "\n",
    "import os\n",
    "\n",
    "import numpy as np\n",
    "\n",
    "import xarray as xr\n",
    "\n",
    "from cartopy import config\n",
    "import cartopy.feature as cfeature\n",
    "import cartopy.crs as ccrs\n",
    "from cartopy.mpl.geoaxes import GeoAxes\n",
    "\n",
    "import matplotlib.pyplot as plt\n",
    "from mpl_toolkits.axes_grid1 import AxesGrid\n",
    "from mpl_toolkits.axes_grid1 import ImageGrid\n",
    "import matplotlib.path as mpath\n",
    "\n",
    "import pandas as pd\n",
    "from pandas import Series\n",
    "\n",
    "from eofs.standard import Eof"
   ]
  },
  {
   "cell_type": "raw",
   "metadata": {},
   "source": [
    "Dossiers."
   ]
  },
  {
   "cell_type": "code",
   "execution_count": null,
   "metadata": {},
   "outputs": [],
   "source": [
    "dir_data='./data/'\n",
    "dir_figs='./figs/'\n",
    "if not os.path.exists(dir_figs):\n",
    "    os.makedirs(dir_figs)"
   ]
  },
  {
   "cell_type": "markdown",
   "metadata": {},
   "source": [
    "# Traitement des données quotidiennes"
   ]
  },
  {
   "cell_type": "raw",
   "metadata": {},
   "source": [
    "Lecture des données pour une période et un sous-domaine de latitudes donnés. Création d'un index de dates."
   ]
  },
  {
   "cell_type": "code",
   "execution_count": null,
   "metadata": {
    "scrolled": false
   },
   "outputs": [],
   "source": [
    "year1='1980-01-01'\n",
    "year2='2020-12-31'\n",
    "latS=20\n",
    "latN=80\n",
    "\n",
    "nc_file = dir_data+'hgt500.1980-2021.nc'\n",
    "data    = xr.open_dataset(nc_file).sel(time=slice(year1,year2)).sel(lat=slice(latN,latS))\n",
    "#data=data.groupby('time.dayofyear') - data.groupby('time.dayofyear').mean('time')\n",
    "print(data)\n",
    "\n",
    "dates = pd.date_range(year1, year2, freq='D')\n",
    "print(dates)"
   ]
  },
  {
   "cell_type": "raw",
   "metadata": {},
   "source": [
    "Sélection des données d'un mois donné ou de l'année complète."
   ]
  },
  {
   "cell_type": "code",
   "execution_count": null,
   "metadata": {
    "scrolled": false
   },
   "outputs": [],
   "source": [
    "selection =['Year', 'January', 'February', 'March', 'April', 'May','June',\n",
    "     'July', 'August', 'September', 'October', 'November', 'December']\n",
    "select=int(input(\"Entrer le nom du mois, entrer 0 pour l'année complète : \"))\n",
    "sel_text=selection[select]\n",
    "\n",
    "if select == 0:\n",
    "    months=np.any([dates.month==1,\n",
    "                   dates.month==2,\n",
    "                   dates.month==2,\n",
    "                   dates.month==4,\n",
    "                   dates.month==5,\n",
    "                   dates.month==6,\n",
    "                   dates.month==7,\n",
    "                   dates.month==8,\n",
    "                   dates.month==9,\n",
    "                   dates.month==10,\n",
    "                   dates.month==11,\n",
    "                   dates.month==12],axis=0)\n",
    "else:\n",
    "    months=np.any([dates.month==select],axis=0)\n",
    "    \n",
    "dates2=dates[months]\n",
    "print(dates2)\n",
    "\n",
    "data_month = data.sel(lat=slice(latN,latS)).sel(time=dates2)\n",
    "print(data_month)\n",
    "z0 = data_month['hgt']\n",
    "lat  = data_month.lat.values\n",
    "time  = data_month.time.values"
   ]
  },
  {
   "cell_type": "raw",
   "metadata": {},
   "source": [
    "Fonction de conversion des longitudes -180 à 180."
   ]
  },
  {
   "cell_type": "code",
   "execution_count": null,
   "metadata": {
    "scrolled": true
   },
   "outputs": [],
   "source": [
    "def lonflip(da):\n",
    "    lon_name = 'lon'\n",
    "    da['_longitude_adjusted'] = xr.where(\n",
    "        da[lon_name] > 180,\n",
    "        da[ lon_name] - 360,\n",
    "        da[lon_name])\n",
    "    da = (\n",
    "        da\n",
    "        .swap_dims({lon_name: '_longitude_adjusted'})\n",
    "        .sel(**{'_longitude_adjusted': sorted(da._longitude_adjusted)})\n",
    "        .drop(lon_name))\n",
    "    da = da.rename({'_longitude_adjusted': lon_name})\n",
    "    return da"
   ]
  },
  {
   "cell_type": "raw",
   "metadata": {},
   "source": [
    "Conversion des longitudes -180 à 180 et selection des données pour un sous-domaine de longitudes. Calcul de la moyenne du champ pour la période choisie."
   ]
  },
  {
   "cell_type": "code",
   "execution_count": null,
   "metadata": {
    "scrolled": true
   },
   "outputs": [],
   "source": [
    "z=lonflip(z0)\n",
    "print(z.shape)\n",
    "lon  = z.lon.values\n",
    "\n",
    "lonW=-80\n",
    "lonE=30\n",
    "lon1 = list(lon).index(lonW)\n",
    "lon2 = list(lon).index(lonE)\n",
    "\n",
    "z=z[:,:,lon1:lon2+1]\n",
    "print(z.shape)\n",
    "lon=lon[lon1:lon2+1]\n",
    "\n",
    "zmean=z.mean(axis=0)"
   ]
  },
  {
   "cell_type": "markdown",
   "metadata": {},
   "source": [
    "# Tracé du champ moyen"
   ]
  },
  {
   "cell_type": "raw",
   "metadata": {},
   "source": [
    "Choix de la projection et fonctions de tracé."
   ]
  },
  {
   "cell_type": "code",
   "execution_count": null,
   "metadata": {},
   "outputs": [],
   "source": [
    "projection = ccrs.Orthographic(central_longitude=(lonW+lonE)/2, central_latitude=(lat[-1]+lat[0])/2)\n",
    "\n",
    "def make_boundary_path(lon,lat):\n",
    "    lons,lats=np.meshgrid(lon,lat)\n",
    "    boundary_path = np.array([lons[-1,:],lats[-1,:]])\n",
    "    boundary_path = np.append(boundary_path,np.array([lons[::-1,-1],lats[::-1,-1]]),axis=1)\n",
    "    boundary_path = np.append(boundary_path,np.array([lons[1,::-1],lats[1,::-1]]),axis=1)\n",
    "    boundary_path = np.append(boundary_path,np.array([lons[:,1],lats[:,1]]),axis=1)\n",
    "    boundary_path = mpath.Path(np.swapaxes(boundary_path, 0, 1))\n",
    "    return boundary_path\n",
    "\n",
    "def plot_map(ax):\n",
    "    ax.coastlines()\n",
    "    ax.gridlines()    \n",
    "    boundary_path = make_boundary_path(lon, lat)\n",
    "    ax.set_boundary(boundary_path, transform=ccrs.PlateCarree())\n",
    "    return ax"
   ]
  },
  {
   "cell_type": "raw",
   "metadata": {},
   "source": [
    "Tracé du champ moyen sur la période."
   ]
  },
  {
   "cell_type": "code",
   "execution_count": null,
   "metadata": {},
   "outputs": [],
   "source": [
    "levels = np.arange(4800,6200,50)\n",
    "cmap = 'jet'\n",
    "\n",
    "fig = plt.figure(figsize=(12,7))\n",
    "fig.suptitle('Geopotential height (mgp) at 500 hPa', fontsize=16)\n",
    "\n",
    "ax = fig.add_subplot(111, projection=projection)\n",
    "ax.set_title(sel_text, fontsize=14)\n",
    "plot_map(ax)\n",
    "p1 = ax.contourf(lon, lat, zmean, levels, transform=ccrs.PlateCarree(), cmap=cmap, extend='both')\n",
    "p2 = ax.contour(lon, lat, zmean, levels, colors='black', linewidths=0.2, transform=ccrs.PlateCarree())\n",
    "cb = fig.colorbar(p1, orientation='vertical', shrink=0.74, pad=0.1)\n",
    "\n",
    "plt.show()\n",
    "\n",
    "figname=dir_figs+'z500_mean_'+sel_text\n",
    "fig.savefig(figname+'.png', bbox_inches='tight')"
   ]
  },
  {
   "cell_type": "markdown",
   "metadata": {},
   "source": [
    "# Analyse en composantes principales"
   ]
  },
  {
   "cell_type": "raw",
   "metadata": {},
   "source": [
    "Sur une grille régulière lat/lon qui ne conserve pas les aires, chaque point de grille n'est pas représentatif de la même surface. Ainsi, si aucune pondération n'est faite avant l'ACP il y aura un problème de distortion aux hautes latitudes. On applique donc en chaque point de grille une pondération consistant à diviser le champ par la racine carrée du cosinus de la latitude."
   ]
  },
  {
   "cell_type": "code",
   "execution_count": null,
   "metadata": {
    "scrolled": true
   },
   "outputs": [],
   "source": [
    "wgts = np.sqrt(np.cos(np.deg2rad(lat)))[:, np.newaxis]"
   ]
  },
  {
   "cell_type": "raw",
   "metadata": {},
   "source": [
    "Réalisation de l'ACP avec pondération et centrage des données."
   ]
  },
  {
   "cell_type": "code",
   "execution_count": null,
   "metadata": {},
   "outputs": [],
   "source": [
    "z=np.array(z)\n",
    "solver = Eof(z, weights=wgts, center=True)\n",
    "#solver = Eof(z, weights=None, center=True) # ACP sans pondération"
   ]
  },
  {
   "cell_type": "raw",
   "metadata": {},
   "source": [
    "Sorties du solveur.\n",
    "eofs : structures spatiales.\n",
    "pcs : composantes principales non normées."
   ]
  },
  {
   "cell_type": "code",
   "execution_count": null,
   "metadata": {
    "scrolled": false
   },
   "outputs": [],
   "source": [
    "eigenvalues = solver.eigenvalues()\n",
    "total_variance = solver.totalAnomalyVariance()\n",
    "varfrac = solver.varianceFraction()\n",
    "eofs = solver.eofs()\n",
    "pcs = solver.pcs(pcscaling=0)\n",
    "\n",
    "print(eofs.shape)\n",
    "print(pcs.shape)\n",
    "print(np.min(eofs))\n",
    "print(np.max(eofs))\n",
    "\n",
    "print('******** Nombre de valeurs propres **********')\n",
    "print(eigenvalues.size)\n",
    "print('******** valeurs propres **********')\n",
    "print(eigenvalues)\n",
    "print('******** variance totale (somme des valeurs propres) **********')\n",
    "print(total_variance)\n",
    "print('******** Variance PC1 **********')\n",
    "print(np.var(pcs[:,0]))\n",
    "print('******** Variance PC2 **********')\n",
    "print(np.var(pcs[:,1]))\n",
    "print('******** Variance PC3 **********')\n",
    "print(np.var(pcs[:,2]))\n",
    "print('******** correlation PC1 PC2 **********')\n",
    "cor_pc12=np.corrcoef(pcs[:,0], pcs[:,1])\n",
    "print(round(cor_pc12[0,1],2))\n",
    "print('******** pourcentage de variance EOF1 **********')\n",
    "print(varfrac[0]*100)\n",
    "print('******** pourcentage de variance EOF2 **********')\n",
    "print(varfrac[1]*100)"
   ]
  },
  {
   "cell_type": "raw",
   "metadata": {},
   "source": [
    "Tracé des 15 premières structures spatiales (EOFs) et composantes principales (PCs) et du pourcentage de variance expliquée par les 15 premiers EOFs."
   ]
  },
  {
   "cell_type": "code",
   "execution_count": null,
   "metadata": {
    "scrolled": false
   },
   "outputs": [],
   "source": [
    "axes_class = (GeoAxes, dict(map_projection=projection))\n",
    "\n",
    "fig = plt.figure(figsize=(15,6))\n",
    "fig.suptitle('Geopotential height at 500 hPa - EOFs : '+sel_text, fontsize=16)\n",
    "\n",
    "axgr = AxesGrid(fig, 111, axes_class=axes_class,\n",
    "       nrows_ncols=(3, 5),\n",
    "       axes_pad=0.6,\n",
    "       cbar_location='right',\n",
    "       cbar_mode='single', # None/single/each\n",
    "       cbar_pad=0.2,\n",
    "       cbar_size='3%',\n",
    "       label_mode='')  # note the empty label_mode\n",
    "\n",
    "levs = np.arange(-0.1, 0.12, 0.02)\n",
    "                   \n",
    "for i, ax in enumerate(axgr):\n",
    "    plot_map(ax)\n",
    "    var=round(varfrac[i]*100,2)\n",
    "    ax.set_title('EOF'+str(i+1)+' ('+str(var)+'%)', fontsize=10, loc='center')\n",
    "    cf = ax.contourf(lon, lat, eofs[i], levs, transform=ccrs.PlateCarree(), cmap='bwr', extend='both')\n",
    "    c = ax.contour(lon, lat, eofs[i], levs, colors='black', linewidths=1, transform=ccrs.PlateCarree())\n",
    "    axgr.cbar_axes[i].colorbar(cf)\n",
    "\n",
    "plt.show()\n",
    "\n",
    "figname=dir_figs+'eofs_z500_'+sel_text\n",
    "fig.savefig(figname+'.png', bbox_inches='tight')\n",
    "\n",
    "fig = plt.figure(figsize=(15,6))\n",
    "fig.suptitle('Geopotential height at 500 hPa - PCs : '+sel_text, fontsize=16)\n",
    "\n",
    "plt.subplots_adjust(hspace=0.5, wspace=0.4)\n",
    "\n",
    "for i in range(0, 15):\n",
    "        plt.subplot(3, 5, i+1)\n",
    "        plt.title('PC'+str(i+1)+'(t)')\n",
    "        plt.axhline(0, color='k', linewidth=0.5)\n",
    "        plt.ylim(-5000, 5000)\n",
    "        plt.plot(pcs[:,i], color='k', linewidth=0.5, alpha=0.7)\n",
    "\n",
    "plt.show()\n",
    "\n",
    "figname=dir_figs+'pcs_z500_'+sel_text\n",
    "fig.savefig(figname+'.png', bbox_inches='tight')\n",
    "\n",
    "fig = plt.figure(figsize=(15, 7))\n",
    "fig.suptitle('Geopotential height at 500 hPa - Variance fraction : '+sel_text, fontsize=16)\n",
    "\n",
    "eof_num = range(1, 16)\n",
    "plt.bar(eof_num, varfrac[0:15], width=0.5)\n",
    "plt.axhline(0, color='k')\n",
    "plt.xticks(range(1, 16))\n",
    "plt.xlabel('EOF #')\n",
    "plt.ylabel('Variance Fraction')\n",
    "plt.xlim(1, 15)\n",
    "plt.ylim(np.min(varfrac), np.max(varfrac)+0.01)\n",
    "plt.show()\n",
    "figname=dir_figs+'varfrac_z500_'+sel_text\n",
    "fig.savefig(figname+'.png', bbox_inches='tight')"
   ]
  },
  {
   "cell_type": "raw",
   "metadata": {},
   "source": [
    "Focus sur le 1er EOF et la première PC."
   ]
  },
  {
   "cell_type": "code",
   "execution_count": null,
   "metadata": {},
   "outputs": [],
   "source": [
    "fig = plt.figure(figsize=(15,15))\n",
    "fig.suptitle('Geopotential height at 500 hPa - EOF1 and PC1 : '+sel_text, fontsize=16)\n",
    "\n",
    "ax = fig.add_subplot(211, projection=projection)\n",
    "plot_map(ax)\n",
    "var=round(varfrac[0]*100,2)\n",
    "ax.set_title('EOF1'+' ('+str(var)+'%)', fontsize=10, loc='center')\n",
    "cf = ax.contourf(lon, lat, eofs[0], levs, transform=ccrs.PlateCarree(), cmap='bwr', extend='both')\n",
    "c = ax.contour(lon, lat, eofs[0], levs, colors='black', linewidths=1, transform=ccrs.PlateCarree())\n",
    "cb = fig.colorbar(cf, orientation='vertical', shrink=0.74, pad=0.1)\n",
    "\n",
    "ax = fig.add_subplot(212)\n",
    "plt.title('PC1(t)', fontsize=14)\n",
    "plt.axhline(0, color='k', linewidth=0.5)\n",
    "plt.ylim(-5000, 5000)\n",
    "plt.plot(pcs[:,0], color='k', linewidth=0.5)\n",
    "\n",
    "plt.show()\n",
    "\n",
    "figname=dir_figs+'eof1_pc1_z500'+sel_text\n",
    "fig.savefig(figname+'.png', bbox_inches='tight')"
   ]
  },
  {
   "cell_type": "markdown",
   "metadata": {},
   "source": [
    "#  Reconstruction d'une journée particulière"
   ]
  },
  {
   "cell_type": "raw",
   "metadata": {},
   "source": [
    "Choix d'une date pour la reconstruction et récupération de l'indice de la date."
   ]
  },
  {
   "cell_type": "code",
   "execution_count": null,
   "metadata": {
    "scrolled": false
   },
   "outputs": [],
   "source": [
    "#--  Manage dates\n",
    "time_str=[x for x in range(len(time))]\n",
    "date_str=[x for x in range(len(time))]\n",
    "for i in range(len(time)):\n",
    "\ttime_str[i] = str(time[i])\n",
    "\tdate_str[i] = time_str[i][0:10]\n",
    "\n",
    "date=input(\"Entrer une date présente dans les données (format YYYY-MM-DD) : \")\n",
    "idate = list(date_str).index(date)"
   ]
  },
  {
   "cell_type": "raw",
   "metadata": {},
   "source": [
    "Fonction de reconstruction du champ sur n EOFs."
   ]
  },
  {
   "cell_type": "code",
   "execution_count": null,
   "metadata": {
    "scrolled": false
   },
   "outputs": [],
   "source": [
    "def reconst_eof_pc(eofs,pcs,n):\n",
    "    reconst = 0\n",
    "    for i in range(n):\n",
    "        reconst+=eofs[i]*pcs[idate,i]/wgts\n",
    "    return(reconst)"
   ]
  },
  {
   "cell_type": "raw",
   "metadata": {},
   "source": [
    "Comparaison du champ total et de la reconstructionsur 9 EOFs"
   ]
  },
  {
   "cell_type": "code",
   "execution_count": null,
   "metadata": {},
   "outputs": [],
   "source": [
    "levels = np.arange(4800,6200,50)\n",
    "cmap = 'jet'\n",
    "\n",
    "fig = plt.figure(figsize=(17,12))\n",
    "fig.suptitle('Reconstruction of the geopotential height at 500 hPa (mgp) : '+date, fontsize=16)\n",
    "\n",
    "ax = fig.add_subplot(4,3,2, projection=projection)\n",
    "plot_map(ax)\n",
    "ax.set_title('Full field', fontsize=14)\n",
    "p1 = ax.contourf(lon, lat, z[idate,:,:], levels, transform=ccrs.PlateCarree(), cmap=cmap, extend='both')\n",
    "p2 = ax.contour(lon, lat, z[idate,:,:], levels, colors='black', linewidths=0.2, transform=ccrs.PlateCarree())\n",
    "cb = fig.colorbar(p1, orientation='vertical', shrink=0.74, pad=0.1)\n",
    "\n",
    "ax = fig.add_subplot(4,3,4, projection=projection)\n",
    "plot_map(ax)\n",
    "ax.set_title('1 EOF', fontsize=14)\n",
    "p1 = ax.contourf(lon, lat, reconst_eof_pc(eofs,pcs,1)+zmean, levels, transform=ccrs.PlateCarree(),\n",
    "                 cmap=cmap, extend='both')\n",
    "p2 = ax.contour(lon, lat, reconst_eof_pc(eofs,pcs,1)+zmean, levels, colors='black', linewidths=0.2,\n",
    "                transform=ccrs.PlateCarree())   \n",
    "\n",
    "ax = fig.add_subplot(4,3,5, projection=projection)\n",
    "plot_map(ax)\n",
    "ax.set_title('2 EOFs', fontsize=14)\n",
    "p1 = ax.contourf(lon, lat, reconst_eof_pc(eofs,pcs,2)+zmean, levels, transform=ccrs.PlateCarree(),\n",
    "                 cmap=cmap, extend='both')\n",
    "p2 = ax.contour(lon, lat, reconst_eof_pc(eofs,pcs,2)+zmean, levels, colors='black', linewidths=0.2,\n",
    "                transform=ccrs.PlateCarree())   \n",
    "\n",
    "ax = fig.add_subplot(4,3,6, projection=projection)\n",
    "plot_map(ax)\n",
    "ax.set_title('3 EOFs', fontsize=14)\n",
    "p1 = ax.contourf(lon, lat, reconst_eof_pc(eofs,pcs,3)+zmean, levels, transform=ccrs.PlateCarree(),\n",
    "                 cmap=cmap, extend='both')\n",
    "p2 = ax.contour(lon, lat, reconst_eof_pc(eofs,pcs,3)+zmean, levels, colors='black', linewidths=0.2,\n",
    "                transform=ccrs.PlateCarree())   \n",
    "\n",
    "ax = fig.add_subplot(4,3,7, projection=projection)\n",
    "plot_map(ax)\n",
    "ax.set_title('4 EOFs', fontsize=14)\n",
    "p1 = ax.contourf(lon, lat, reconst_eof_pc(eofs,pcs,4)+zmean, levels, transform=ccrs.PlateCarree(),\n",
    "                 cmap=cmap, extend='both')\n",
    "p2 = ax.contour(lon, lat, reconst_eof_pc(eofs,pcs,4)+zmean, levels, colors='black', linewidths=0.2,\n",
    "                transform=ccrs.PlateCarree())   \n",
    "\n",
    "ax = fig.add_subplot(4,3,8, projection=projection)\n",
    "plot_map(ax)\n",
    "ax.set_title('5 EOFs', fontsize=14)\n",
    "p1 = ax.contourf(lon, lat, reconst_eof_pc(eofs,pcs,5)+zmean, levels, transform=ccrs.PlateCarree(),\n",
    "                 cmap=cmap, extend='both')\n",
    "p2 = ax.contour(lon, lat, reconst_eof_pc(eofs,pcs,5)+zmean, levels, colors='black', linewidths=0.2,\n",
    "                transform=ccrs.PlateCarree())   \n",
    "\n",
    "ax = fig.add_subplot(4,3,9, projection=projection)\n",
    "plot_map(ax)\n",
    "ax.set_title('6 EOFs', fontsize=14)\n",
    "p1 = ax.contourf(lon, lat, reconst_eof_pc(eofs,pcs,6)+zmean, levels, transform=ccrs.PlateCarree(),\n",
    "                 cmap=cmap, extend='both')\n",
    "p2 = ax.contour(lon, lat, reconst_eof_pc(eofs,pcs,6)+zmean, levels, colors='black', linewidths=0.2,\n",
    "                transform=ccrs.PlateCarree())   \n",
    "\n",
    "ax = fig.add_subplot(4,3,10, projection=projection)\n",
    "plot_map(ax)\n",
    "ax.set_title('7 EOFs', fontsize=14)\n",
    "p1 = ax.contourf(lon, lat, reconst_eof_pc(eofs,pcs,7)+zmean, levels, transform=ccrs.PlateCarree(),\n",
    "                 cmap=cmap, extend='both')\n",
    "p2 = ax.contour(lon, lat, reconst_eof_pc(eofs,pcs,7)+zmean, levels, colors='black', linewidths=0.2,\n",
    "                transform=ccrs.PlateCarree())   \n",
    "\n",
    "ax = fig.add_subplot(4,3,11, projection=projection)\n",
    "plot_map(ax)\n",
    "ax.set_title('8 EOFs', fontsize=14)\n",
    "p1 = ax.contourf(lon, lat, reconst_eof_pc(eofs,pcs,8)+zmean, levels, transform=ccrs.PlateCarree(),\n",
    "                 cmap=cmap, extend='both')\n",
    "p2 = ax.contour(lon, lat, reconst_eof_pc(eofs,pcs,8)+zmean, levels, colors='black', linewidths=0.2,\n",
    "                transform=ccrs.PlateCarree())   \n",
    "\n",
    "ax = fig.add_subplot(4,3,12, projection=projection)\n",
    "plot_map(ax)\n",
    "ax.set_title('9 EOFs', fontsize=14)\n",
    "p1 = ax.contourf(lon, lat, reconst_eof_pc(eofs,pcs,9)+zmean, levels, transform=ccrs.PlateCarree(),\n",
    "                 cmap=cmap, extend='both')\n",
    "p2 = ax.contour(lon, lat, reconst_eof_pc(eofs,pcs,9)+zmean, levels, colors='black', linewidths=0.2,\n",
    "                transform=ccrs.PlateCarree())   \n",
    "\n",
    "plt.show()\n",
    "\n",
    "figname=dir_figs+'reconstruction_z500_'+str(date)\n",
    "fig.savefig(figname+'.png', bbox_inches='tight')"
   ]
  },
  {
   "cell_type": "markdown",
   "metadata": {},
   "source": [
    "# Pour aller plus loin\n",
    "\n",
    "Etude des régimes de temps de l'Atlantique nord (cf. calepin régimes de temps IENM1) :\n",
    "\n",
    "- Première étape : Analyse en composantes principales des données quotidiennes quotidennes de Pmer ou de Z500 sur les mois d'hiver (DJFM) ou d'été (JJAS).\n",
    "- Deuxième étape : classification automatique (\"clustering\") K-means dans l'espace des PCs."
   ]
  }
 ],
 "metadata": {
  "kernelspec": {
   "display_name": "Python 3",
   "language": "python",
   "name": "python3"
  },
  "language_info": {
   "codemirror_mode": {
    "name": "ipython",
    "version": 3
   },
   "file_extension": ".py",
   "mimetype": "text/x-python",
   "name": "python",
   "nbconvert_exporter": "python",
   "pygments_lexer": "ipython3",
   "version": "3.7.11"
  }
 },
 "nbformat": 4,
 "nbformat_minor": 1
}
